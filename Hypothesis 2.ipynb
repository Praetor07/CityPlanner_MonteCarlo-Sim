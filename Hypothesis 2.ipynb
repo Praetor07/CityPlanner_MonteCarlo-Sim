{
 "cells": [
  {
   "cell_type": "code",
   "execution_count": null,
   "id": "70523c85",
   "metadata": {},
   "outputs": [],
   "source": [
    "import main\n",
    "import pandas as pd\n",
    "import networkx as nx\n",
    "from EmergencyUnit import EmergencyUnit"
   ]
  },
  {
   "cell_type": "code",
   "execution_count": null,
   "id": "0a2b6537",
   "metadata": {},
   "outputs": [],
   "source": [
    "city = main.configure_city_file('./config/configuration_hyp2_sml.txt')\n",
    "units = EmergencyUnit.response_buildings\n",
    "small_unit_locs = [unit.location for unit in units if unit.available_capacity==1]\n",
    "medium_unit_locs = [unit.location for unit in units if unit.available_capacity==3]\n",
    "large_unit_locs = [unit.location for unit in units if unit.available_capacity==5]\n",
    "\n",
    "small_emergency_unit_labels = dict()\n",
    "medium_emergency_unit_labels = dict()\n",
    "large_emergency_unit_labels = dict()\n",
    "pos=dict()\n",
    "node_coordinates=list(city.city_graph.nodes)\n",
    "width = city.width\n",
    "height = city.height\n",
    "dim = city.zone_dimension\n",
    "for i in range(len(node_coordinates)):\n",
    "    pos[node_coordinates[i]]=(node_coordinates[i][1], (height*dim-1)-node_coordinates[i][0])\n",
    "    if node_coordinates[i] in small_unit_locs:\n",
    "        small_emergency_unit_labels[node_coordinates[i]] = 'Small EU'\n",
    "    elif node_coordinates[i] in medium_unit_locs:\n",
    "        medium_emergency_unit_labels[node_coordinates[i]] = 'Medium EU'\n",
    "    elif node_coordinates[i] in large_unit_locs:\n",
    "        large_emergency_unit_labels[node_coordinates[i]] = 'Large EU'\n",
    "traffic_time_labels = nx.get_edge_attributes(city.city_graph,'adjusted_time')\n",
    "nx.draw(city.city_graph, pos)\n",
    "nx.draw_networkx_edge_labels(city.city_graph,pos,edge_labels=traffic_time_labels)\n",
    "nx.draw_networkx_labels(city.city_graph, pos, small_emergency_unit_labels, font_size=12, font_color='r')\n",
    "nx.draw_networkx_labels(city.city_graph, pos, medium_emergency_unit_labels, font_size=12, font_color='r')\n",
    "nx.draw_networkx_labels(city.city_graph, pos, large_emergency_unit_labels, font_size=12, font_color='r')"
   ]
  },
  {
   "cell_type": "code",
   "execution_count": null,
   "id": "3b64e59c",
   "metadata": {},
   "outputs": [],
   "source": [
    "resp_times, successful_perc = main.simulate(city)"
   ]
  },
  {
   "cell_type": "code",
   "execution_count": null,
   "id": "cd08d354",
   "metadata": {},
   "outputs": [],
   "source": [
    "df1 = pd.DataFrame({'Average Response Time': resp_times}, index = [_ for _ in range(1, 101)])\n",
    "plot1 = df1.plot(title = 'Covergence of Average Response Time of Emergencies')\n",
    "plot1.set(xlabel='Number of Simulation Runs', ylabel='Average Response Time (mins)')\n",
    "# plot1.show()\n",
    "df1.to_csv('hypothesis2_sml_resptime.csv')\n",
    "df2 = pd.DataFrame({'Percentage of Successfully Responded Emergencies': successful_perc}, index = [_ for _ in range(1, 101)])\n",
    "plot2 = df2.plot(title = 'Covergence of Percentage of Successfully Responded Emergencies')\n",
    "plot2.set(xlabel='Number of Simulation Runs', ylabel='Average Percentage of Successfully Responded Emergencies')\n",
    "# plot2.show()\n",
    "df2.to_csv('hypothesis2_sml_percsuccessful.csv')"
   ]
  },
  {
   "cell_type": "code",
   "execution_count": null,
   "id": "b87e6a2d",
   "metadata": {},
   "outputs": [],
   "source": [
    "print(\"Average Response Time: {} mins\".format(round(resp_times[-1], 2)))\n",
    "print(\"Average Percentage of Successfully Responded Emergencies: {} %\".format(round(successful_perc[-1], 2)))"
   ]
  }
 ],
 "metadata": {
  "kernelspec": {
   "display_name": "Python 3 (ipykernel)",
   "language": "python",
   "name": "python3"
  },
  "language_info": {
   "codemirror_mode": {
    "name": "ipython",
    "version": 3
   },
   "file_extension": ".py",
   "mimetype": "text/x-python",
   "name": "python",
   "nbconvert_exporter": "python",
   "pygments_lexer": "ipython3",
   "version": "3.9.13"
  }
 },
 "nbformat": 4,
 "nbformat_minor": 5
}
