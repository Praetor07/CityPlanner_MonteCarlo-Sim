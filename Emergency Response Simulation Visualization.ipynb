{
 "cells": [
  {
   "cell_type": "code",
   "execution_count": 1,
   "id": "70523c85",
   "metadata": {},
   "outputs": [],
   "source": [
    "import main\n",
    "import pandas as pd\n",
    "import networkx as nx\n",
    "from EmergencyUnit import EmergencyUnit"
   ]
  },
  {
   "cell_type": "code",
   "execution_count": 2,
   "id": "0a2b6537",
   "metadata": {},
   "outputs": [
    {
     "data": {
      "text/plain": [
       "{(0, 0): Text(0, 5, 'Emergency Unit'),\n",
       " (1, 1): Text(1, 4, 'Emergency Unit'),\n",
       " (2, 1): Text(1, 3, 'Emergency Unit'),\n",
       " (4, 5): Text(5, 1, 'Emergency Unit'),\n",
       " (5, 2): Text(2, 0, 'Emergency Unit')}"
      ]
     },
     "execution_count": 2,
     "metadata": {},
     "output_type": "execute_result"
    },
    {
     "data": {
      "image/png": "[encoded data removed]",
      "text/plain": [
       "<Figure size 432x288 with 1 Axes>"
      ]
     },
     "metadata": {},
     "output_type": "display_data"
    }
   ],
   "source": [
    "city = main.configure_city_file()\n",
    "units = EmergencyUnit.response_buildings\n",
    "unit_locs = [unit.location for unit in units]\n",
    "emergency_unit_labels = dict()\n",
    "pos=dict()\n",
    "node_coordinates=list(city.city_graph.nodes)\n",
    "width = city.width\n",
    "height = city.height\n",
    "dim = city.zone_dimension\n",
    "for i in range(len(node_coordinates)):\n",
    "    pos[node_coordinates[i]]=(node_coordinates[i][1], (height*dim-1)-node_coordinates[i][0])\n",
    "    if node_coordinates[i] in unit_locs:\n",
    "        emergency_unit_labels[node_coordinates[i]] = 'Emergency Unit'\n",
    "traffic_time_labels = nx.get_edge_attributes(city.city_graph,'adjusted_time')\n",
    "nx.draw(city.city_graph, pos)\n",
    "nx.draw_networkx_edge_labels(city.city_graph,pos,edge_labels=traffic_time_labels)\n",
    "nx.draw_networkx_labels(city.city_graph, pos, emergency_unit_labels, font_size=10, font_color='r')"
   ]
  },
  {
   "cell_type": "code",
   "execution_count": 3,
   "id": "3b64e59c",
   "metadata": {},
   "outputs": [
    {
     "name": "stderr",
     "output_type": "stream",
     "text": [
      "\r",
      "  0%|                                                                                          | 0/100 [00:00<?, ?it/s]"
     ]
    },
    {
     "name": "stdout",
     "output_type": "stream",
     "text": [
      "start_time: 2022-12-04 15:09:07.065053\n",
      "end_time: 2022-12-04 15:09:07.066060\n",
      "0.001007\n"
     ]
    },
    {
     "name": "stderr",
     "output_type": "stream",
     "text": [
      "  0%|                                                                                          | 0/100 [01:34<?, ?it/s]\n"
     ]
    },
    {
     "ename": "KeyboardInterrupt",
     "evalue": "",
     "output_type": "error",
     "traceback": [
      "\u001b[1;31m---------------------------------------------------------------------------\u001b[0m",
      "\u001b[1;31mKeyboardInterrupt\u001b[0m                         Traceback (most recent call last)",
      "Input \u001b[1;32mIn [3]\u001b[0m, in \u001b[0;36m<cell line: 1>\u001b[1;34m()\u001b[0m\n\u001b[1;32m----> 1\u001b[0m resp_times, successful_perc \u001b[38;5;241m=\u001b[39m \u001b[43mmain\u001b[49m\u001b[38;5;241;43m.\u001b[39;49m\u001b[43msimulate\u001b[49m\u001b[43m(\u001b[49m\u001b[43mcity\u001b[49m\u001b[43m)\u001b[49m\n",
      "File \u001b[1;32m~\\PycharmProjects\\PRAssignments\\PR-Final-Project\\main.py:213\u001b[0m, in \u001b[0;36msimulate\u001b[1;34m(city)\u001b[0m\n\u001b[0;32m    211\u001b[0m \u001b[38;5;28;01mif\u001b[39;00m random\u001b[38;5;241m.\u001b[39mrandint(\u001b[38;5;241m1\u001b[39m, \u001b[38;5;241m1000000\u001b[39m) \u001b[38;5;241m<\u001b[39m\u001b[38;5;241m=\u001b[39m prob:\n\u001b[0;32m    212\u001b[0m     e \u001b[38;5;241m=\u001b[39m Emergency(test, zone)\n\u001b[1;32m--> 213\u001b[0m     th \u001b[38;5;241m=\u001b[39m Thread(target\u001b[38;5;241m=\u001b[39m\u001b[43me\u001b[49m\u001b[38;5;241;43m.\u001b[39;49m\u001b[43mresolve_emergency\u001b[49m\u001b[43m(\u001b[49m\u001b[43m)\u001b[49m, daemon\u001b[38;5;241m=\u001b[39m\u001b[38;5;28;01mFalse\u001b[39;00m)\n\u001b[0;32m    214\u001b[0m     th\u001b[38;5;241m.\u001b[39mstart()\n\u001b[0;32m    215\u001b[0m     thread_list\u001b[38;5;241m.\u001b[39mappend(th)\n",
      "File \u001b[1;32m~\\PycharmProjects\\PRAssignments\\PR-Final-Project\\Emergency.py:106\u001b[0m, in \u001b[0;36mEmergency.resolve_emergency\u001b[1;34m(self)\u001b[0m\n\u001b[0;32m    104\u001b[0m \u001b[38;5;28;01mfor\u001b[39;00m _ \u001b[38;5;129;01min\u001b[39;00m \u001b[38;5;28mrange\u001b[39m(\u001b[38;5;28mint\u001b[39m(time_to_resolve)\u001b[38;5;241m*\u001b[39m\u001b[38;5;241m60\u001b[39m):\n\u001b[0;32m    105\u001b[0m     \u001b[38;5;28;01mif\u001b[39;00m Emergency\u001b[38;5;241m.\u001b[39mlooping_time:\n\u001b[1;32m--> 106\u001b[0m         \u001b[43msleep\u001b[49m\u001b[43m(\u001b[49m\u001b[43mEmergency\u001b[49m\u001b[38;5;241;43m.\u001b[39;49m\u001b[43mlooping_time\u001b[49m\u001b[43m)\u001b[49m\n\u001b[0;32m    107\u001b[0m \u001b[38;5;28;01mfor\u001b[39;00m emergency_unit, num_teams \u001b[38;5;129;01min\u001b[39;00m emergency_units\u001b[38;5;241m.\u001b[39mitems():\n\u001b[0;32m    108\u001b[0m     emergency_unit\u001b[38;5;241m.\u001b[39mrelieve_response_teams(num_teams)\n",
      "\u001b[1;31mKeyboardInterrupt\u001b[0m: "
     ]
    }
   ],
   "source": [
    "resp_times, successful_perc = main.simulate(city)\n",
    "# traffic_time_labels = nx.get_edge_attributes(city.city_graph,'adjusted_time')\n",
    "# nx.draw(city.city_graph, pos)\n",
    "# nx.draw_networkx_edge_labels(city.city_graph,pos,edge_labels=traffic_time_labels)\n",
    "# nx.draw_networkx_labels(city.city_graph, pos, emergency_unit_labels, font_size=10, font_color='r')"
   ]
  },
  {
   "cell_type": "code",
   "execution_count": null,
   "id": "39f8cbc0",
   "metadata": {},
   "outputs": [],
   "source": [
    "df1 = pd.DataFrame({'Average Response Time': resp_times})\n",
    "df1.plot()\n",
    "df2 = pd.DataFrame({'Percentage of Successfully Responded Emergencies': successful_perc})\n",
    "df2.plot()"
   ]
  }
 ],
 "metadata": {
  "kernelspec": {
   "display_name": "Python 3 (ipykernel)",
   "language": "python",
   "name": "python3"
  },
  "language_info": {
   "codemirror_mode": {
    "name": "ipython",
    "version": 3
   },
   "file_extension": ".py",
   "mimetype": "text/x-python",
   "name": "python",
   "nbconvert_exporter": "python",
   "pygments_lexer": "ipython3",
   "version": "3.9.12"
  }
 },
 "nbformat": 4,
 "nbformat_minor": 5
}
