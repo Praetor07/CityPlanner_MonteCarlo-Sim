{
 "cells": [
  {
   "cell_type": "markdown",
   "id": "7002fbe3",
   "metadata": {},
   "source": [
    "# Hypothesis 1\n",
    "\n",
    "### In this hypothesis we consider different location configurations of 12 medium type emergency unit buildings distributed across the city.\n",
    "\n",
    "### Case 1 : All the emergency response units are placed on the corners. 1 on each corner and 2 evenly distributed across the edges.\n",
    "### Case 2: All the emergency response units are placedon the inside, distributed in a similar fashion as case 1.\n",
    "### Case 3: We consider a hybrid scenario where half the units are placed on the corners, the other half are placed in the interior region.\n",
    "\n",
    "### Prediction: Locating emergency units in the corners reduces the number of directions than the corner units have access to, which is not efficient utilization of the emergency unit buildings. So, we hypothesis that Case 2 would provide the most optimal results as there would be no emergency units in the corners."
   ]
  },
  {
   "cell_type": "code",
   "execution_count": null,
   "id": "924c01b4",
   "metadata": {},
   "outputs": [],
   "source": [
    "import main\n",
    "import pandas as pd\n",
    "import networkx as nx\n",
    "from EmergencyUnit import EmergencyUnit\n",
    "import matplotlib.pyplot as plt"
   ]
  },
  {
   "cell_type": "code",
   "execution_count": null,
   "id": "0ec54291",
   "metadata": {},
   "outputs": [],
   "source": [
    "def visualize(city):\n",
    "    units = EmergencyUnit.response_buildings\n",
    "    small_unit_locs = [unit.location for unit in units if unit.available_capacity==3]\n",
    "    medium_unit_locs = [unit.location for unit in units if unit.available_capacity==5]\n",
    "    large_unit_locs = [unit.location for unit in units if unit.available_capacity==7]\n",
    "\n",
    "    # small_emergency_unit_labels = dict()\n",
    "    # medium_emergency_unit_labels = dict()\n",
    "    # large_emergency_unit_labels = dict()\n",
    "    color_map = dict()\n",
    "    size_map = dict()\n",
    "    pos=dict()\n",
    "    node_coordinates=list(city.city_graph.nodes)\n",
    "    height = city.height\n",
    "    dim = city.zone_dimension\n",
    "    for i in range(len(node_coordinates)):\n",
    "        pos[node_coordinates[i]]=(node_coordinates[i][1], (height*dim-1)-node_coordinates[i][0])\n",
    "        if node_coordinates[i] in small_unit_locs:\n",
    "            color_map[node_coordinates[i]] = 'red'\n",
    "            size_map[node_coordinates[i]] = 250\n",
    "        elif node_coordinates[i] in medium_unit_locs:\n",
    "            color_map[node_coordinates[i]] = 'blue'\n",
    "            size_map[node_coordinates[i]] = 400\n",
    "        elif node_coordinates[i] in large_unit_locs:\n",
    "            color_map[node_coordinates[i]] = 'green'\n",
    "            size_map[node_coordinates[i]] = 650\n",
    "        else:\n",
    "            color_map[node_coordinates[i]] = 'black'\n",
    "            size_map[node_coordinates[i]] = 150\n",
    "    colors = [ color_map.get(node) for node in city.city_graph.nodes]\n",
    "    sizes = [ size_map.get(node) for node in city.city_graph.nodes]\n",
    "    traffic_time_labels = nx.get_edge_attributes(city.city_graph,'adjusted_time')\n",
    "    plt.figure(1, figsize=(9,9))\n",
    "    nx.draw(city.city_graph, pos, node_size=sizes, node_color = colors)\n",
    "    a=nx.draw_networkx_edge_labels(city.city_graph,pos,edge_labels=traffic_time_labels, font_size=10)\n",
    "    # nx.draw_networkx_labels(city.city_graph, pos, small_emergency_unit_labels, font_size=12, font_color='g')\n",
    "    # nx.draw_networkx_labels(city.city_graph, pos, medium_emergency_unit_labels, font_size=12, font_color='g')\n",
    "    # nx.draw_networkx_labels(city.city_graph, pos, large_emergency_unit_labels, font_size=12, font_color='g')\n",
    "    plt.show()"
   ]
  },
  {
   "cell_type": "code",
   "execution_count": null,
   "id": "8ea8d5f9",
   "metadata": {},
   "outputs": [],
   "source": [
    "def plot_graph(resp_times, successful_perc, resptime_file, perc_successful_file):\n",
    "    df1 = pd.DataFrame({'Average Response Time': resp_times}, index = [_ for _ in range(1, 101)])\n",
    "    plot1 = df1.plot(title = 'Covergence of Average Response Time of Emergencies')\n",
    "    plot1.set(xlabel='Number of Simulation Runs', ylabel='Average Response Time (mins)')\n",
    "    # plot1.show()\n",
    "    df1.to_csv(resptime_file)\n",
    "    df2 = pd.DataFrame({'Percentage of Successfully Responded Emergencies': successful_perc}, \n",
    "                       index = [_ for _ in range(1, 101)])\n",
    "    plot2 = df2.plot(title = 'Covergence of Percentage of Successfully Responded Emergencies')\n",
    "    plot2.set(xlabel='Number of Simulation Runs', ylabel='Average Percentage of Successfully Responded Emergencies')\n",
    "    # plot2.show()\n",
    "    df2.to_csv(perc_successful_file)\n",
    "    print(\"Average Response Time: {} mins\".format(round(resp_times[-1], 2)))\n",
    "    print(\"Average Percentage of Successfully Responded Emergencies: {} %\".format(round(successful_perc[-1], 2)))"
   ]
  },
  {
   "cell_type": "markdown",
   "id": "08f12443",
   "metadata": {},
   "source": [
    "# Case 1 - Corner"
   ]
  },
  {
   "cell_type": "code",
   "execution_count": null,
   "id": "f3c17600",
   "metadata": {},
   "outputs": [],
   "source": [
    "city = main.configure_city_file('corner_medium_ps.txt')"
   ]
  },
  {
   "cell_type": "code",
   "execution_count": null,
   "id": "2dc3ed7e",
   "metadata": {},
   "outputs": [],
   "source": [
    "visualize(city)"
   ]
  },
  {
   "cell_type": "code",
   "execution_count": null,
   "id": "b6c0abc4",
   "metadata": {},
   "outputs": [],
   "source": [
    "resp_times, successful_perc, num_emergencies, emergency_dict = main.simulate(city)"
   ]
  },
  {
   "cell_type": "code",
   "execution_count": null,
   "id": "8a0f536f",
   "metadata": {},
   "outputs": [],
   "source": [
    "plot_graph(resp_times, successful_perc, 'hypothesis1_corner_resptime.csv', 'hypothesis1_corner_percsuccessful.csv')"
   ]
  },
  {
   "cell_type": "markdown",
   "id": "e9599902",
   "metadata": {},
   "source": [
    "# Case 2 - Inner"
   ]
  },
  {
   "cell_type": "code",
   "execution_count": null,
   "id": "0731eb22",
   "metadata": {},
   "outputs": [],
   "source": [
    "city = main.configure_city_file('inner_medium_ps.txt')"
   ]
  },
  {
   "cell_type": "code",
   "execution_count": null,
   "id": "6af56c19",
   "metadata": {},
   "outputs": [],
   "source": [
    "visualize(city)"
   ]
  },
  {
   "cell_type": "code",
   "execution_count": null,
   "id": "761daa75",
   "metadata": {},
   "outputs": [],
   "source": [
    "resp_times, successful_perc, num_emergencies, emergency_dict = main.simulate(city)"
   ]
  },
  {
   "cell_type": "code",
   "execution_count": null,
   "id": "5e757032",
   "metadata": {},
   "outputs": [],
   "source": [
    "plot_graph(resp_times, successful_perc, 'hypothesis1_inner_resptime.csv', 'hypothesis1_inner_percsuccessful.csv')"
   ]
  },
  {
   "cell_type": "markdown",
   "id": "2aa80c69",
   "metadata": {},
   "source": [
    "# Case 3 - Hybrid"
   ]
  },
  {
   "cell_type": "code",
   "execution_count": null,
   "id": "48870b40",
   "metadata": {},
   "outputs": [],
   "source": [
    "city = main.configure_city_file('hybrid_medium_ps.txt')"
   ]
  },
  {
   "cell_type": "code",
   "execution_count": null,
   "id": "27da6bf7",
   "metadata": {},
   "outputs": [],
   "source": [
    "visualize(city)"
   ]
  },
  {
   "cell_type": "code",
   "execution_count": null,
   "id": "c3c7a97f",
   "metadata": {},
   "outputs": [],
   "source": [
    "resp_times, successful_perc, num_emergencies, emergency_dict = main.simulate(city)"
   ]
  },
  {
   "cell_type": "code",
   "execution_count": null,
   "id": "725961bb",
   "metadata": {},
   "outputs": [],
   "source": [
    "plot_graph(resp_times, successful_perc, 'hypothesis1_hybrid_resptime.csv', 'hypothesis1_hybrid_percsuccessful.csv')"
   ]
  }
 ],
 "metadata": {
  "kernelspec": {
   "display_name": "Python 3 (ipykernel)",
   "language": "python",
   "name": "python3"
  },
  "language_info": {
   "codemirror_mode": {
    "name": "ipython",
    "version": 3
   },
   "file_extension": ".py",
   "mimetype": "text/x-python",
   "name": "python",
   "nbconvert_exporter": "python",
   "pygments_lexer": "ipython3",
   "version": "3.9.13"
  }
 },
 "nbformat": 4,
 "nbformat_minor": 5
}
